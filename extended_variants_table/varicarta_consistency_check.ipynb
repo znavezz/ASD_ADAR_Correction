{
 "cells": [
  {
   "cell_type": "code",
   "execution_count": 66,
   "id": "db862736",
   "metadata": {},
   "outputs": [],
   "source": [
    "import pandas as pd\n",
    "import os\n",
    "import sys\n",
    "import subprocess"
   ]
  },
  {
   "cell_type": "markdown",
   "id": "8c8bbb6b",
   "metadata": {},
   "source": [
    "### Paths"
   ]
  },
  {
   "cell_type": "code",
   "execution_count": 67,
   "id": "7ccd54c5",
   "metadata": {},
   "outputs": [],
   "source": [
    "varicarta_path = \"/private10/Projects/Nave_Oded_Project/resources/DBs/hg38/variants/Varicarta/variants_table.tsv\"\n",
    "variants_table_path = \"/private10/Projects/Nave_Oded_Project/extended_variants_table/2nd_run.csv\""
   ]
  },
  {
   "cell_type": "code",
   "execution_count": 68,
   "id": "161f63ee",
   "metadata": {},
   "outputs": [
    {
     "name": "stdout",
     "output_type": "stream",
     "text": [
      "Varicarta table shape: (525687, 54)\n"
     ]
    }
   ],
   "source": [
    "varicarta_df = pd.read_csv(varicarta_path, sep=\"\\t\", low_memory=False)\n",
    "print(f\"Varicarta table shape: {varicarta_df.shape}\")\n"
   ]
  },
  {
   "cell_type": "code",
   "execution_count": 69,
   "id": "f692b7ba",
   "metadata": {},
   "outputs": [],
   "source": [
    "# Varicarta/funcs.py\n",
    "def deduplicate(df: pd.DataFrame) -> pd.DataFrame:\n",
    "    df = df.copy()\n",
    "    df['pos'] = df['pos'].astype(str)\n",
    "    # Strip leading \"I:\" from alt (same as the shell script)\n",
    "    df['alt'] = df['alt'].astype(str).str.replace(r'^I:', '', regex=True)\n",
    "\n",
    "    # Keep only key columns before liftOver\n",
    "    df = df[['chr', 'pos', 'ref', 'alt']].copy()\n",
    "\n",
    "    # Match VEP awk guards: numeric pos, non-empty ref/alt\n",
    "    df = df[df['pos'].str.match(r'^[0-9]+$')]\n",
    "    df = df[df['ref'].notna() & df['alt'].notna() & (df['ref'] != \"\") & (df['alt'] != \"\")]\n",
    "\n",
    "    # **Exact de-dup on the 4-key tuple** (what your VEP pipeline does)\n",
    "    df = df.drop_duplicates(subset=['chr', 'pos', 'ref', 'alt'], keep='first')\n",
    "\n",
    "    return df\n"
   ]
  },
  {
   "cell_type": "code",
   "execution_count": 70,
   "id": "703e428e",
   "metadata": {},
   "outputs": [],
   "source": [
    "    # Build keys from raw columns (as your current code does)\n",
    "varicarta_df['chr'] = varicarta_df['chromosome'].astype(str)\n",
    "varicarta_df['chr'] = 'chr' + varicarta_df['chr']\n",
    "\n",
    "varicarta_df['pos'] = varicarta_df['start_hg19'].astype(str)"
   ]
  },
  {
   "cell_type": "code",
   "execution_count": 71,
   "id": "6cebcc12",
   "metadata": {},
   "outputs": [],
   "source": [
    "dedup_varicarta_df = deduplicate(varicarta_df)"
   ]
  },
  {
   "cell_type": "code",
   "execution_count": 72,
   "id": "d15b8f78",
   "metadata": {},
   "outputs": [
    {
     "name": "stdout",
     "output_type": "stream",
     "text": [
      "Deduplicated Varicarta shape: (329439, 4)\n",
      "Number of duplicates removed: 196248\n"
     ]
    }
   ],
   "source": [
    "print(f\"Deduplicated Varicarta shape: {dedup_varicarta_df.shape}\")\n",
    "print(f\"Number of duplicates removed: {varicarta_df.shape[0] - dedup_varicarta_df.shape[0]}\")\n"
   ]
  },
  {
   "cell_type": "code",
   "execution_count": 73,
   "id": "83b7a67e",
   "metadata": {},
   "outputs": [],
   "source": [
    "variants_df = pd.read_csv(variants_table_path, low_memory=False)"
   ]
  },
  {
   "cell_type": "code",
   "execution_count": 74,
   "id": "54e877de",
   "metadata": {},
   "outputs": [],
   "source": [
    "variants_df = variants_df[variants_df[\"Varicarta\"] == 1]"
   ]
  },
  {
   "cell_type": "code",
   "execution_count": 75,
   "id": "e27c7ebe",
   "metadata": {},
   "outputs": [
    {
     "data": {
      "text/plain": [
       "(365351, 119)"
      ]
     },
     "execution_count": 75,
     "metadata": {},
     "output_type": "execute_result"
    }
   ],
   "source": [
    "variants_df.shape"
   ]
  },
  {
   "cell_type": "code",
   "execution_count": 76,
   "id": "fabe9131",
   "metadata": {},
   "outputs": [
    {
     "name": "stdout",
     "output_type": "stream",
     "text": [
      "Deduplicated variants_df shape: (329363, 4)\n"
     ]
    }
   ],
   "source": [
    "dedup_variants_df = deduplicate(variants_df)\n",
    "print(f\"Deduplicated variants_df shape: {dedup_variants_df.shape}\")\n"
   ]
  },
  {
   "cell_type": "code",
   "execution_count": 77,
   "id": "a4618611",
   "metadata": {},
   "outputs": [
    {
     "name": "stdout",
     "output_type": "stream",
     "text": [
      "alternate_chr shape: (267, 4)\n",
      "dedup_variants_df shape after removing alternate_chr: (329096, 4)\n"
     ]
    }
   ],
   "source": [
    "alternate_chr = dedup_variants_df[~dedup_variants_df['chr'].str.match(r'^(chr)?([1-9]|1[0-9]|2[0-2]|X|Y|MT)$')]\n",
    "print(f\"alternate_chr shape: {alternate_chr.shape}\")\n",
    "\n",
    "# remove alternate_chr from dedup_variants_df\n",
    "dedup_variants_df = dedup_variants_df[~dedup_variants_df['chr'].isin(alternate_chr['chr'])]\n",
    "print(f\"dedup_variants_df shape after removing alternate_chr: {dedup_variants_df.shape}\")"
   ]
  },
  {
   "cell_type": "markdown",
   "id": "3327b39f",
   "metadata": {},
   "source": [
    "The minor difference between the two datasets is likely to unmapped variants in the liftover process. The Varicarta dataset was "
   ]
  },
  {
   "cell_type": "markdown",
   "id": "f58c3f52",
   "metadata": {},
   "source": [
    "### Count unmapped variants"
   ]
  },
  {
   "cell_type": "code",
   "execution_count": 78,
   "id": "9ed68159",
   "metadata": {},
   "outputs": [],
   "source": [
    "liftover_script = \"/private10/Projects/Nave_Oded_Project/resources/DBs/hg38/variants/liftOverToHg38.sh\"\n",
    "liftover_chain = \"/private10/Projects/Nave_Oded_Project/resources/DBs/hg38/.liftOver/hg19ToHg38.over.chain.gz\""
   ]
  },
  {
   "cell_type": "code",
   "execution_count": 79,
   "id": "2f0edaff",
   "metadata": {},
   "outputs": [],
   "source": [
    "def lift_over(df: pd.DataFrame) -> pd.DataFrame:\n",
    "    \"\"\"\n",
    "    Function to perform liftOver from hg19 to hg38.\n",
    "    This is a placeholder function; actual implementation would depend on the liftOver tool.\n",
    "    \"\"\"\n",
    "    df['start'] = df['pos'].astype(int) - 1  # Convert pos to int and create start column\n",
    "    df['end'] = df['start'] + df['ref'].str.len()  # Calculate end position based on ref length\n",
    "    df = df[['chr', 'start', 'end', 'ref', 'alt']].copy()  # Reorder columns to match expected format\n",
    "    # 5) Convert 'chr' to string type\n",
    "    df['chr'] = df['chr'].astype(str)\n",
    "    # 6) Convert 'start' and 'end' to int type\n",
    "    df['start'] = df['start'].astype(int)\n",
    "    df['end'] = df['end'].astype(int)\n",
    "\n",
    "    # Ensure the DataFrame has the expected columns\n",
    "    expected_columns = ['chr', 'start', 'end', 'ref', 'alt']\n",
    "    for col in expected_columns:\n",
    "        if col not in df.columns:\n",
    "            raise ValueError(f\"Missing expected column: {col}\")\n",
    "    \n",
    "    tmp_file_path = \"tmp_lifted_over_variants.tsv\"\n",
    "    df.to_csv(tmp_file_path, sep='\\t', index=False, header=False)  # Save to a temporary file for liftOver\n",
    "\n",
    "    if os.path.exists(liftover_script):\n",
    "        if os.path.exists(liftover_chain):\n",
    "            try:\n",
    "                result_path = subprocess.run(['bash', liftover_script, tmp_file_path, liftover_chain], check=True, capture_output=True, text=True).stdout.strip()\n",
    "                if not result_path: \n",
    "                    raise ValueError(\"LiftOver script did not return a valid file path.\")\n",
    "                # run the liftOver script with the temporary file and chain file and save the returned file path\n",
    "\n",
    "                print(\"LiftOver completed successfully.\")\n",
    "            except subprocess.CalledProcessError as e:\n",
    "                print(f\"Error during LiftOver: {e}\")\n",
    "        else:\n",
    "            print(f\"Chain file not found at {liftover_chain}\")\n",
    "    else:\n",
    "        print(f\"LiftOver script not found at {liftover_script}\")\n",
    "\n",
    "    # Load the lifted over variants back into a DataFrame\n",
    "    lifted_df = pd.read_csv(result_path, sep='\\t', header=None, names=expected_columns)\n",
    "    os.remove(tmp_file_path)  # Clean up the temporary file\n",
    "    os.remove(result_path)  # Clean up the result file\n",
    "    # Ensure the lifted DataFrame has the expected columns\n",
    "    for col in expected_columns:\n",
    "        if col not in lifted_df.columns:\n",
    "            raise ValueError(f\"Lifted DataFrame is missing expected column: {col}\")\n",
    "        \n",
    "    print(\" DataFrame head:\")\n",
    "    print(df[['chr', 'start', 'end', 'ref', 'alt']].head())  # Debugging output\n",
    "    print(\" Lifted DataFrame head:\")\n",
    "    print(lifted_df[['chr', 'start', 'end', 'ref', 'alt']].head())  # Debugging output\n",
    "    # Return the lifted DataFrame to the original format\n",
    "    lifted_df['chr'] = lifted_df['chr'].str.replace('chr', '', regex=False)\n",
    "    lifted_df['start'] = (lifted_df['start'] + 1).astype(str)  # Convert start back to 1-based index\n",
    "    # rename 'start' to 'pos'\n",
    "    lifted_df.rename(columns={'start': 'pos'}, inplace=True)\n",
    "\n",
    "    return lifted_df[['chr', 'pos', 'ref', 'alt']].reset_index(drop=True)"
   ]
  },
  {
   "cell_type": "code",
   "execution_count": 80,
   "id": "7a213e79",
   "metadata": {},
   "outputs": [
    {
     "name": "stdout",
     "output_type": "stream",
     "text": [
      "LiftOver completed successfully.\n",
      " DataFrame head:\n",
      "     chr      start        end ref alt\n",
      "0   chr2   38975220   38975221   C  CC\n",
      "1   chr1  169824926  169824927   A   G\n",
      "2   chr5  133635406  133635407   T   C\n",
      "3  chr10   55583160   55583161   T   G\n",
      "4  chr15   28953438   28953439   G   A\n",
      " Lifted DataFrame head:\n",
      "     chr      start        end ref alt\n",
      "0   chr2   38748078   38748079   C  CC\n",
      "1   chr1  169855785  169855786   A   G\n",
      "2   chr5  134299715  134299716   T   C\n",
      "3  chr10   53823400   53823401   T   G\n",
      "4  chr15   28708292   28708293   G   A\n"
     ]
    }
   ],
   "source": [
    "dedup_varicarta_lifted = lift_over(dedup_varicarta_df)"
   ]
  },
  {
   "cell_type": "code",
   "execution_count": 81,
   "id": "45ca7e1c",
   "metadata": {},
   "outputs": [
    {
     "name": "stdout",
     "output_type": "stream",
     "text": [
      "Number of unmapped coordinates: 71\n"
     ]
    }
   ],
   "source": [
    "print(f\"Number of unmapped coordinates: {dedup_varicarta_df.shape[0] - dedup_varicarta_lifted.shape[0]}\")"
   ]
  },
  {
   "cell_type": "code",
   "execution_count": 82,
   "id": "7a0051f3",
   "metadata": {},
   "outputs": [
    {
     "data": {
      "text/plain": [
       "(329368, 4)"
      ]
     },
     "execution_count": 82,
     "metadata": {},
     "output_type": "execute_result"
    }
   ],
   "source": [
    "dedup_varicarta_lifted.shape"
   ]
  },
  {
   "cell_type": "code",
   "execution_count": 83,
   "id": "a8c35880",
   "metadata": {},
   "outputs": [
    {
     "name": "stdout",
     "output_type": "stream",
     "text": [
      "alternate_chr shape: (267, 4)\n",
      "dedup_varicarta_lifted shape after removing alternate_chr: (329101, 4)\n",
      "Number of alternate chr removed: 267\n"
     ]
    }
   ],
   "source": [
    "# print rows where the chr col is not number between 1-22 or X or Y or MT\n",
    "alternate_chr = dedup_varicarta_lifted[~dedup_varicarta_lifted['chr'].str.match(r'^(chr)?([1-9]|1[0-9]|2[0-2]|X|Y|MT)$')]\n",
    "print(f\"alternate_chr shape: {alternate_chr.shape}\")\n",
    "\n",
    "# remove alternate_chr from dedup_varicarta_lifted\n",
    "dedup_varicarta_lifted = dedup_varicarta_lifted[~dedup_varicarta_lifted['chr'].isin(alternate_chr['chr'])]\n",
    "print(f\"dedup_varicarta_lifted shape after removing alternate_chr: {dedup_varicarta_lifted.shape}\")\n",
    "print(f\"Number of alternate chr removed: {alternate_chr.shape[0]}\")"
   ]
  },
  {
   "cell_type": "code",
   "execution_count": 84,
   "id": "68495b30",
   "metadata": {},
   "outputs": [
    {
     "name": "stdout",
     "output_type": "stream",
     "text": [
      "Difference between varicarta and variants table after liftOver: 5\n"
     ]
    }
   ],
   "source": [
    "print(f\"Difference between varicarta and variants table after liftOver: {dedup_varicarta_lifted.shape[0] - dedup_variants_df.shape[0]}\")"
   ]
  },
  {
   "cell_type": "code",
   "execution_count": 85,
   "id": "bea0f91d",
   "metadata": {},
   "outputs": [
    {
     "data": {
      "application/vnd.microsoft.datawrangler.viewer.v0+json": {
       "columns": [
        {
         "name": "index",
         "rawType": "int64",
         "type": "integer"
        },
        {
         "name": "chr",
         "rawType": "object",
         "type": "string"
        },
        {
         "name": "pos",
         "rawType": "object",
         "type": "string"
        },
        {
         "name": "ref",
         "rawType": "object",
         "type": "string"
        },
        {
         "name": "alt",
         "rawType": "object",
         "type": "string"
        }
       ],
       "ref": "086b11e9-e856-4c7e-8a9b-2bd5ca59ead4",
       "rows": [
        [
         "13148",
         "1",
         "215758592",
         "T",
         "T"
        ],
        [
         "169856",
         "2",
         "38748079",
         "C",
         "CC"
        ],
        [
         "281578",
         "7",
         "152230325",
         "T",
         "T"
        ],
        [
         "325288",
         "X",
         "141907819",
         "TGCC",
         "TGCC"
        ]
       ],
       "shape": {
        "columns": 4,
        "rows": 4
       }
      },
      "text/html": [
       "<div>\n",
       "<style scoped>\n",
       "    .dataframe tbody tr th:only-of-type {\n",
       "        vertical-align: middle;\n",
       "    }\n",
       "\n",
       "    .dataframe tbody tr th {\n",
       "        vertical-align: top;\n",
       "    }\n",
       "\n",
       "    .dataframe thead th {\n",
       "        text-align: right;\n",
       "    }\n",
       "</style>\n",
       "<table border=\"1\" class=\"dataframe\">\n",
       "  <thead>\n",
       "    <tr style=\"text-align: right;\">\n",
       "      <th></th>\n",
       "      <th>chr</th>\n",
       "      <th>pos</th>\n",
       "      <th>ref</th>\n",
       "      <th>alt</th>\n",
       "    </tr>\n",
       "  </thead>\n",
       "  <tbody>\n",
       "    <tr>\n",
       "      <th>13148</th>\n",
       "      <td>1</td>\n",
       "      <td>215758592</td>\n",
       "      <td>T</td>\n",
       "      <td>T</td>\n",
       "    </tr>\n",
       "    <tr>\n",
       "      <th>169856</th>\n",
       "      <td>2</td>\n",
       "      <td>38748079</td>\n",
       "      <td>C</td>\n",
       "      <td>CC</td>\n",
       "    </tr>\n",
       "    <tr>\n",
       "      <th>281578</th>\n",
       "      <td>7</td>\n",
       "      <td>152230325</td>\n",
       "      <td>T</td>\n",
       "      <td>T</td>\n",
       "    </tr>\n",
       "    <tr>\n",
       "      <th>325288</th>\n",
       "      <td>X</td>\n",
       "      <td>141907819</td>\n",
       "      <td>TGCC</td>\n",
       "      <td>TGCC</td>\n",
       "    </tr>\n",
       "  </tbody>\n",
       "</table>\n",
       "</div>"
      ],
      "text/plain": [
       "       chr        pos   ref   alt\n",
       "13148    1  215758592     T     T\n",
       "169856   2   38748079     C    CC\n",
       "281578   7  152230325     T     T\n",
       "325288   X  141907819  TGCC  TGCC"
      ]
     },
     "execution_count": 85,
     "metadata": {},
     "output_type": "execute_result"
    }
   ],
   "source": [
    "# save the differences in a new df\n",
    "differences_df = pd.merge(dedup_varicarta_lifted, dedup_variants_df, on=['chr', 'pos', 'ref', 'alt'], how='outer', indicator=True)\n",
    "differences_df = differences_df[differences_df['_merge'] != 'both']\n",
    "differences_df = differences_df.drop(columns=['_merge'])\n",
    "differences_df"
   ]
  },
  {
   "cell_type": "code",
   "execution_count": 117,
   "id": "cba44ae0",
   "metadata": {},
   "outputs": [
    {
     "data": {
      "application/vnd.microsoft.datawrangler.viewer.v0+json": {
       "columns": [
        {
         "name": "index",
         "rawType": "int64",
         "type": "integer"
        },
        {
         "name": "pid",
         "rawType": "int64",
         "type": "integer"
        },
        {
         "name": "paper_key",
         "rawType": "object",
         "type": "string"
        },
        {
         "name": "id",
         "rawType": "int64",
         "type": "integer"
        },
        {
         "name": "paper_id",
         "rawType": "int64",
         "type": "integer"
        },
        {
         "name": "sequencing_study_type",
         "rawType": "object",
         "type": "string"
        },
        {
         "name": "event_id",
         "rawType": "int64",
         "type": "integer"
        },
        {
         "name": "subject_id",
         "rawType": "int64",
         "type": "integer"
        },
        {
         "name": "sample_id",
         "rawType": "object",
         "type": "string"
        },
        {
         "name": "chromosome",
         "rawType": "object",
         "type": "string"
        },
        {
         "name": "start_hg19",
         "rawType": "int64",
         "type": "integer"
        },
        {
         "name": "stop_hg19",
         "rawType": "int64",
         "type": "integer"
        },
        {
         "name": "ref",
         "rawType": "object",
         "type": "string"
        },
        {
         "name": "alt",
         "rawType": "object",
         "type": "string"
        },
        {
         "name": "gene_symbol",
         "rawType": "object",
         "type": "unknown"
        },
        {
         "name": "category",
         "rawType": "object",
         "type": "unknown"
        },
        {
         "name": "code_change",
         "rawType": "float64",
         "type": "float"
        },
        {
         "name": "protein_change",
         "rawType": "float64",
         "type": "float"
        },
        {
         "name": "gene_detail",
         "rawType": "float64",
         "type": "float"
        },
        {
         "name": "func",
         "rawType": "object",
         "type": "unknown"
        },
        {
         "name": "aa_change",
         "rawType": "object",
         "type": "unknown"
        },
        {
         "name": "cytoband",
         "rawType": "float64",
         "type": "float"
        },
        {
         "name": "inheritance",
         "rawType": "object",
         "type": "unknown"
        },
        {
         "name": "validation_method",
         "rawType": "object",
         "type": "unknown"
        },
        {
         "name": "validation_reported",
         "rawType": "object",
         "type": "unknown"
        },
        {
         "name": "validation",
         "rawType": "object",
         "type": "unknown"
        },
        {
         "name": "exac03",
         "rawType": "float64",
         "type": "float"
        },
        {
         "name": "clinvar_20150629",
         "rawType": "object",
         "type": "unknown"
        },
        {
         "name": "CADD13_raw",
         "rawType": "float64",
         "type": "float"
        },
        {
         "name": "CADD13_phred",
         "rawType": "float64",
         "type": "float"
        },
        {
         "name": "SIFT_score",
         "rawType": "float64",
         "type": "float"
        },
        {
         "name": "SIFT_pred",
         "rawType": "object",
         "type": "unknown"
        },
        {
         "name": "Polyphen2_HDIV_score",
         "rawType": "float64",
         "type": "float"
        },
        {
         "name": "Polyphen2_HDIV_pred",
         "rawType": "object",
         "type": "unknown"
        },
        {
         "name": "Polyphen2_HVAR_score",
         "rawType": "float64",
         "type": "float"
        },
        {
         "name": "Polyphen2_HVAR_pred",
         "rawType": "object",
         "type": "unknown"
        },
        {
         "name": "LRT_score",
         "rawType": "float64",
         "type": "float"
        },
        {
         "name": "LRT_pred",
         "rawType": "object",
         "type": "unknown"
        },
        {
         "name": "MutationTaster_score",
         "rawType": "float64",
         "type": "float"
        },
        {
         "name": "MutationTaster_pred",
         "rawType": "object",
         "type": "unknown"
        },
        {
         "name": "MutationAssessor_score",
         "rawType": "float64",
         "type": "float"
        },
        {
         "name": "MutationAssessor_pred",
         "rawType": "object",
         "type": "unknown"
        },
        {
         "name": "FATHMM_score",
         "rawType": "float64",
         "type": "float"
        },
        {
         "name": "FATHMM_pred",
         "rawType": "object",
         "type": "unknown"
        },
        {
         "name": "RadialSVM_score",
         "rawType": "float64",
         "type": "float"
        },
        {
         "name": "RadialSVM_pred",
         "rawType": "object",
         "type": "unknown"
        },
        {
         "name": "LR_score",
         "rawType": "float64",
         "type": "float"
        },
        {
         "name": "LR_pred",
         "rawType": "object",
         "type": "unknown"
        },
        {
         "name": "VEST3_score",
         "rawType": "float64",
         "type": "float"
        },
        {
         "name": "CADD_raw",
         "rawType": "float64",
         "type": "float"
        },
        {
         "name": "CADD_phred",
         "rawType": "float64",
         "type": "float"
        },
        {
         "name": "GERP_RS",
         "rawType": "float64",
         "type": "float"
        },
        {
         "name": "phyloP46way_placental",
         "rawType": "float64",
         "type": "float"
        },
        {
         "name": "phyloP100way_vertebrate",
         "rawType": "float64",
         "type": "float"
        },
        {
         "name": "SiPhy_29way_logOdds",
         "rawType": "float64",
         "type": "float"
        },
        {
         "name": "chr",
         "rawType": "object",
         "type": "string"
        },
        {
         "name": "pos",
         "rawType": "object",
         "type": "string"
        }
       ],
       "ref": "33aeb7cd-a9a7-403f-a3b4-235b9edaae1c",
       "rows": [
        [
         "0",
         "0",
         "An2014",
         "987929",
         "0",
         "exome",
         "0",
         "0",
         "31.s1",
         "2",
         "38975221",
         "38975221",
         "C",
         "CC",
         "SRSF7",
         "frameshift insertion",
         null,
         null,
         null,
         "exonic",
         "SRSF7:NM_001031684:exon5:c.539dupG:p.R180fs,SRSF7:NM_001195446:exon5:c.539dupG:p.R180fs",
         null,
         "d",
         null,
         null,
         null,
         null,
         null,
         null,
         null,
         null,
         null,
         null,
         null,
         null,
         null,
         null,
         null,
         null,
         null,
         null,
         null,
         null,
         null,
         null,
         null,
         null,
         null,
         null,
         null,
         null,
         null,
         null,
         null,
         null,
         "chr2",
         "38975221"
        ],
        [
         "252815",
         "170",
         "Hu2023",
         "1616470",
         "170",
         "targeted",
         "378264",
         "54218",
         "Hu2023:18",
         "7",
         "151927410",
         "151927410",
         "T",
         "T",
         null,
         null,
         null,
         null,
         null,
         null,
         null,
         null,
         "d",
         "Sanger",
         null,
         "y",
         null,
         null,
         null,
         null,
         null,
         null,
         null,
         null,
         null,
         null,
         null,
         null,
         null,
         null,
         null,
         null,
         null,
         null,
         null,
         null,
         null,
         null,
         null,
         null,
         null,
         null,
         null,
         null,
         null,
         "chr7",
         "151927410"
        ],
        [
         "469104",
         "190",
         "Ben-Mahmoud2024",
         "2019689",
         "190",
         "Genome Sequencing Identifies 13 Novel Candidate Risk Genes for Autism Spectrum Disorder in a Qatari Cohort",
         "480361",
         "62187",
         "Ben-Mahmoud2024:12",
         "1",
         "215931934",
         "215931934",
         "T",
         "T",
         "USH2A",
         null,
         null,
         null,
         null,
         "intronic",
         null,
         null,
         "d",
         null,
         null,
         null,
         null,
         null,
         null,
         null,
         null,
         null,
         null,
         null,
         null,
         null,
         null,
         null,
         null,
         null,
         null,
         null,
         null,
         null,
         null,
         null,
         null,
         null,
         null,
         null,
         null,
         null,
         null,
         null,
         null,
         "chr1",
         "215931934"
        ],
        [
         "469156",
         "190",
         "Ben-Mahmoud2024",
         "2019741",
         "190",
         "Genome Sequencing Identifies 13 Novel Candidate Risk Genes for Autism Spectrum Disorder in a Qatari Cohort",
         "480413",
         "62225",
         "Ben-Mahmoud2024:6",
         "X",
         "140995605",
         "140995608",
         "TGCC",
         "TGCC",
         null,
         null,
         null,
         null,
         null,
         null,
         null,
         null,
         null,
         null,
         null,
         null,
         null,
         null,
         null,
         null,
         null,
         null,
         null,
         null,
         null,
         null,
         null,
         null,
         null,
         null,
         null,
         null,
         null,
         null,
         null,
         null,
         null,
         null,
         null,
         null,
         null,
         null,
         null,
         null,
         null,
         "chrX",
         "140995605"
        ]
       ],
       "shape": {
        "columns": 56,
        "rows": 4
       }
      },
      "text/html": [
       "<div>\n",
       "<style scoped>\n",
       "    .dataframe tbody tr th:only-of-type {\n",
       "        vertical-align: middle;\n",
       "    }\n",
       "\n",
       "    .dataframe tbody tr th {\n",
       "        vertical-align: top;\n",
       "    }\n",
       "\n",
       "    .dataframe thead th {\n",
       "        text-align: right;\n",
       "    }\n",
       "</style>\n",
       "<table border=\"1\" class=\"dataframe\">\n",
       "  <thead>\n",
       "    <tr style=\"text-align: right;\">\n",
       "      <th></th>\n",
       "      <th>pid</th>\n",
       "      <th>paper_key</th>\n",
       "      <th>id</th>\n",
       "      <th>paper_id</th>\n",
       "      <th>sequencing_study_type</th>\n",
       "      <th>event_id</th>\n",
       "      <th>subject_id</th>\n",
       "      <th>sample_id</th>\n",
       "      <th>chromosome</th>\n",
       "      <th>start_hg19</th>\n",
       "      <th>...</th>\n",
       "      <th>LR_pred</th>\n",
       "      <th>VEST3_score</th>\n",
       "      <th>CADD_raw</th>\n",
       "      <th>CADD_phred</th>\n",
       "      <th>GERP_RS</th>\n",
       "      <th>phyloP46way_placental</th>\n",
       "      <th>phyloP100way_vertebrate</th>\n",
       "      <th>SiPhy_29way_logOdds</th>\n",
       "      <th>chr</th>\n",
       "      <th>pos</th>\n",
       "    </tr>\n",
       "  </thead>\n",
       "  <tbody>\n",
       "    <tr>\n",
       "      <th>0</th>\n",
       "      <td>0</td>\n",
       "      <td>An2014</td>\n",
       "      <td>987929</td>\n",
       "      <td>0</td>\n",
       "      <td>exome</td>\n",
       "      <td>0</td>\n",
       "      <td>0</td>\n",
       "      <td>31.s1</td>\n",
       "      <td>2</td>\n",
       "      <td>38975221</td>\n",
       "      <td>...</td>\n",
       "      <td>NaN</td>\n",
       "      <td>NaN</td>\n",
       "      <td>NaN</td>\n",
       "      <td>NaN</td>\n",
       "      <td>NaN</td>\n",
       "      <td>NaN</td>\n",
       "      <td>NaN</td>\n",
       "      <td>NaN</td>\n",
       "      <td>chr2</td>\n",
       "      <td>38975221</td>\n",
       "    </tr>\n",
       "    <tr>\n",
       "      <th>252815</th>\n",
       "      <td>170</td>\n",
       "      <td>Hu2023</td>\n",
       "      <td>1616470</td>\n",
       "      <td>170</td>\n",
       "      <td>targeted</td>\n",
       "      <td>378264</td>\n",
       "      <td>54218</td>\n",
       "      <td>Hu2023:18</td>\n",
       "      <td>7</td>\n",
       "      <td>151927410</td>\n",
       "      <td>...</td>\n",
       "      <td>NaN</td>\n",
       "      <td>NaN</td>\n",
       "      <td>NaN</td>\n",
       "      <td>NaN</td>\n",
       "      <td>NaN</td>\n",
       "      <td>NaN</td>\n",
       "      <td>NaN</td>\n",
       "      <td>NaN</td>\n",
       "      <td>chr7</td>\n",
       "      <td>151927410</td>\n",
       "    </tr>\n",
       "    <tr>\n",
       "      <th>469104</th>\n",
       "      <td>190</td>\n",
       "      <td>Ben-Mahmoud2024</td>\n",
       "      <td>2019689</td>\n",
       "      <td>190</td>\n",
       "      <td>Genome Sequencing Identifies 13 Novel Candidat...</td>\n",
       "      <td>480361</td>\n",
       "      <td>62187</td>\n",
       "      <td>Ben-Mahmoud2024:12</td>\n",
       "      <td>1</td>\n",
       "      <td>215931934</td>\n",
       "      <td>...</td>\n",
       "      <td>NaN</td>\n",
       "      <td>NaN</td>\n",
       "      <td>NaN</td>\n",
       "      <td>NaN</td>\n",
       "      <td>NaN</td>\n",
       "      <td>NaN</td>\n",
       "      <td>NaN</td>\n",
       "      <td>NaN</td>\n",
       "      <td>chr1</td>\n",
       "      <td>215931934</td>\n",
       "    </tr>\n",
       "    <tr>\n",
       "      <th>469156</th>\n",
       "      <td>190</td>\n",
       "      <td>Ben-Mahmoud2024</td>\n",
       "      <td>2019741</td>\n",
       "      <td>190</td>\n",
       "      <td>Genome Sequencing Identifies 13 Novel Candidat...</td>\n",
       "      <td>480413</td>\n",
       "      <td>62225</td>\n",
       "      <td>Ben-Mahmoud2024:6</td>\n",
       "      <td>X</td>\n",
       "      <td>140995605</td>\n",
       "      <td>...</td>\n",
       "      <td>NaN</td>\n",
       "      <td>NaN</td>\n",
       "      <td>NaN</td>\n",
       "      <td>NaN</td>\n",
       "      <td>NaN</td>\n",
       "      <td>NaN</td>\n",
       "      <td>NaN</td>\n",
       "      <td>NaN</td>\n",
       "      <td>chrX</td>\n",
       "      <td>140995605</td>\n",
       "    </tr>\n",
       "  </tbody>\n",
       "</table>\n",
       "<p>4 rows × 56 columns</p>\n",
       "</div>"
      ],
      "text/plain": [
       "        pid        paper_key       id  paper_id  \\\n",
       "0         0           An2014   987929         0   \n",
       "252815  170           Hu2023  1616470       170   \n",
       "469104  190  Ben-Mahmoud2024  2019689       190   \n",
       "469156  190  Ben-Mahmoud2024  2019741       190   \n",
       "\n",
       "                                    sequencing_study_type  event_id  \\\n",
       "0                                                   exome         0   \n",
       "252815                                           targeted    378264   \n",
       "469104  Genome Sequencing Identifies 13 Novel Candidat...    480361   \n",
       "469156  Genome Sequencing Identifies 13 Novel Candidat...    480413   \n",
       "\n",
       "        subject_id           sample_id chromosome  start_hg19  ...  LR_pred  \\\n",
       "0                0               31.s1          2    38975221  ...      NaN   \n",
       "252815       54218           Hu2023:18          7   151927410  ...      NaN   \n",
       "469104       62187  Ben-Mahmoud2024:12          1   215931934  ...      NaN   \n",
       "469156       62225   Ben-Mahmoud2024:6          X   140995605  ...      NaN   \n",
       "\n",
       "       VEST3_score CADD_raw CADD_phred GERP_RS  phyloP46way_placental  \\\n",
       "0              NaN      NaN        NaN     NaN                    NaN   \n",
       "252815         NaN      NaN        NaN     NaN                    NaN   \n",
       "469104         NaN      NaN        NaN     NaN                    NaN   \n",
       "469156         NaN      NaN        NaN     NaN                    NaN   \n",
       "\n",
       "        phyloP100way_vertebrate  SiPhy_29way_logOdds   chr        pos  \n",
       "0                           NaN                  NaN  chr2   38975221  \n",
       "252815                      NaN                  NaN  chr7  151927410  \n",
       "469104                      NaN                  NaN  chr1  215931934  \n",
       "469156                      NaN                  NaN  chrX  140995605  \n",
       "\n",
       "[4 rows x 56 columns]"
      ]
     },
     "execution_count": 117,
     "metadata": {},
     "output_type": "execute_result"
    }
   ],
   "source": [
    "varicarta_df[(varicarta_df['chr'] == 'chr1') & (varicarta_df['pos'] == \"215931934\") | (varicarta_df['chr'] == 'chr2') & (varicarta_df['pos'] == \"38975221\") | (varicarta_df['chr'] == 'chr7') & (varicarta_df['pos'] == \"151927410\") | (varicarta_df['chr'] == 'chrX') & (varicarta_df['pos'] == \"140995605\")]\n"
   ]
  },
  {
   "cell_type": "code",
   "execution_count": 120,
   "id": "85fc0dc9",
   "metadata": {},
   "outputs": [
    {
     "data": {
      "application/vnd.microsoft.datawrangler.viewer.v0+json": {
       "columns": [
        {
         "name": "index",
         "rawType": "int64",
         "type": "integer"
        },
        {
         "name": "chr",
         "rawType": "object",
         "type": "string"
        },
        {
         "name": "pos",
         "rawType": "int64",
         "type": "integer"
        },
        {
         "name": "ref",
         "rawType": "object",
         "type": "string"
        },
        {
         "name": "alt",
         "rawType": "object",
         "type": "string"
        },
        {
         "name": "AF",
         "rawType": "float64",
         "type": "float"
        },
        {
         "name": "AFR_AF",
         "rawType": "float64",
         "type": "float"
        },
        {
         "name": "AMR_AF",
         "rawType": "float64",
         "type": "float"
        },
        {
         "name": "APPRIS",
         "rawType": "object",
         "type": "string"
        },
        {
         "name": "Allele",
         "rawType": "object",
         "type": "string"
        },
        {
         "name": "Amino_acids",
         "rawType": "object",
         "type": "string"
        },
        {
         "name": "BIOTYPE",
         "rawType": "object",
         "type": "string"
        },
        {
         "name": "BLOSUM62",
         "rawType": "float64",
         "type": "float"
        },
        {
         "name": "CANONICAL",
         "rawType": "object",
         "type": "string"
        },
        {
         "name": "CCDS",
         "rawType": "object",
         "type": "string"
        },
        {
         "name": "CDS_position",
         "rawType": "object",
         "type": "string"
        },
        {
         "name": "CLIN_SIG",
         "rawType": "object",
         "type": "string"
        },
        {
         "name": "Codons",
         "rawType": "object",
         "type": "string"
        },
        {
         "name": "Condel",
         "rawType": "object",
         "type": "string"
        },
        {
         "name": "Consequence",
         "rawType": "object",
         "type": "string"
        },
        {
         "name": "DISTANCE",
         "rawType": "float64",
         "type": "float"
        },
        {
         "name": "DOMAINS",
         "rawType": "object",
         "type": "string"
        },
        {
         "name": "EAS_AF",
         "rawType": "float64",
         "type": "float"
        },
        {
         "name": "ENSP",
         "rawType": "object",
         "type": "string"
        },
        {
         "name": "EUR_AF",
         "rawType": "float64",
         "type": "float"
        },
        {
         "name": "EXON",
         "rawType": "object",
         "type": "string"
        },
        {
         "name": "Enformer_SAD",
         "rawType": "float64",
         "type": "float"
        },
        {
         "name": "Enformer_SAR",
         "rawType": "float64",
         "type": "float"
        },
        {
         "name": "Existing_variation",
         "rawType": "object",
         "type": "string"
        },
        {
         "name": "FLAGS",
         "rawType": "object",
         "type": "string"
        },
        {
         "name": "Feature",
         "rawType": "object",
         "type": "string"
        },
        {
         "name": "Feature_type",
         "rawType": "object",
         "type": "string"
        },
        {
         "name": "FlagLRG",
         "rawType": "object",
         "type": "string"
        },
        {
         "name": "GENE_PHENO",
         "rawType": "float64",
         "type": "float"
        },
        {
         "name": "Gene",
         "rawType": "object",
         "type": "string"
        },
        {
         "name": "HGNC_ID",
         "rawType": "object",
         "type": "string"
        },
        {
         "name": "HGVS_OFFSET",
         "rawType": "float64",
         "type": "float"
        },
        {
         "name": "HGVSc",
         "rawType": "object",
         "type": "string"
        },
        {
         "name": "HGVSp",
         "rawType": "object",
         "type": "string"
        },
        {
         "name": "IMPACT",
         "rawType": "object",
         "type": "string"
        },
        {
         "name": "INTRON",
         "rawType": "object",
         "type": "string"
        },
        {
         "name": "LOVD",
         "rawType": "object",
         "type": "string"
        },
        {
         "name": "LoFtool",
         "rawType": "float64",
         "type": "float"
        },
        {
         "name": "Location",
         "rawType": "object",
         "type": "string"
        },
        {
         "name": "MANE",
         "rawType": "object",
         "type": "string"
        },
        {
         "name": "MANE_PLUS_CLINICAL",
         "rawType": "object",
         "type": "string"
        },
        {
         "name": "MANE_SELECT",
         "rawType": "object",
         "type": "string"
        },
        {
         "name": "MAX_AF",
         "rawType": "float64",
         "type": "float"
        },
        {
         "name": "MAX_AF_POPS",
         "rawType": "object",
         "type": "string"
        },
        {
         "name": "MINIMISED",
         "rawType": "float64",
         "type": "float"
        },
        {
         "name": "MaveDB_nt",
         "rawType": "object",
         "type": "string"
        },
        {
         "name": "MaveDB_pro",
         "rawType": "object",
         "type": "string"
        },
        {
         "name": "MaveDB_score",
         "rawType": "object",
         "type": "string"
        },
        {
         "name": "MaveDB_urn",
         "rawType": "object",
         "type": "string"
        },
        {
         "name": "NMD",
         "rawType": "object",
         "type": "string"
        },
        {
         "name": "PHENO",
         "rawType": "object",
         "type": "string"
        },
        {
         "name": "PUBMED",
         "rawType": "object",
         "type": "string"
        },
        {
         "name": "PhastCons100",
         "rawType": "object",
         "type": "string"
        },
        {
         "name": "PhenotypeOrthologous_Mouse_geneid",
         "rawType": "object",
         "type": "string"
        },
        {
         "name": "PhenotypeOrthologous_Mouse_phenotype",
         "rawType": "object",
         "type": "string"
        },
        {
         "name": "PhenotypeOrthologous_Rat_geneid",
         "rawType": "object",
         "type": "string"
        },
        {
         "name": "PhenotypeOrthologous_Rat_phenotype",
         "rawType": "object",
         "type": "string"
        },
        {
         "name": "PolyPhen",
         "rawType": "object",
         "type": "string"
        },
        {
         "name": "Protein_position",
         "rawType": "object",
         "type": "string"
        },
        {
         "name": "REVEL",
         "rawType": "float64",
         "type": "float"
        },
        {
         "name": "SAS_AF",
         "rawType": "float64",
         "type": "float"
        },
        {
         "name": "SIFT",
         "rawType": "object",
         "type": "string"
        },
        {
         "name": "SOMATIC",
         "rawType": "object",
         "type": "string"
        },
        {
         "name": "STRAND",
         "rawType": "float64",
         "type": "float"
        },
        {
         "name": "SWISSPROT",
         "rawType": "object",
         "type": "string"
        },
        {
         "name": "SYMBOL",
         "rawType": "object",
         "type": "string"
        },
        {
         "name": "SYMBOL_SOURCE",
         "rawType": "object",
         "type": "string"
        },
        {
         "name": "TREMBL",
         "rawType": "object",
         "type": "string"
        },
        {
         "name": "TSL",
         "rawType": "float64",
         "type": "float"
        },
        {
         "name": "UNIPARC",
         "rawType": "object",
         "type": "string"
        },
        {
         "name": "UNIPROT_ISOFORM",
         "rawType": "object",
         "type": "string"
        },
        {
         "name": "VARIANT_CLASS",
         "rawType": "object",
         "type": "string"
        },
        {
         "name": "Varicarta",
         "rawType": "float64",
         "type": "float"
        },
        {
         "name": "am_class",
         "rawType": "object",
         "type": "string"
        },
        {
         "name": "am_genome",
         "rawType": "object",
         "type": "string"
        },
        {
         "name": "am_pathogenicity",
         "rawType": "float64",
         "type": "float"
        },
        {
         "name": "am_protein_variant",
         "rawType": "object",
         "type": "string"
        },
        {
         "name": "am_transcript_id",
         "rawType": "object",
         "type": "string"
        },
        {
         "name": "am_uniprot_id",
         "rawType": "object",
         "type": "string"
        },
        {
         "name": "cDNA_position",
         "rawType": "object",
         "type": "string"
        },
        {
         "name": "db1_TableS1",
         "rawType": "float64",
         "type": "float"
        },
        {
         "name": "db1_TableS3",
         "rawType": "float64",
         "type": "float"
        },
        {
         "name": "db1_TableS4",
         "rawType": "float64",
         "type": "float"
        },
        {
         "name": "db2_TableS2",
         "rawType": "float64",
         "type": "float"
        },
        {
         "name": "db3",
         "rawType": "float64",
         "type": "float"
        },
        {
         "name": "db4_SD1",
         "rawType": "float64",
         "type": "float"
        },
        {
         "name": "db4_SD2",
         "rawType": "float64",
         "type": "float"
        },
        {
         "name": "db4_SD3",
         "rawType": "float64",
         "type": "float"
        },
        {
         "name": "db5_SD1",
         "rawType": "float64",
         "type": "float"
        },
        {
         "name": "gnomADe_AF",
         "rawType": "float64",
         "type": "float"
        },
        {
         "name": "gnomADe_AFR_AF",
         "rawType": "float64",
         "type": "float"
        },
        {
         "name": "gnomADe_AMR_AF",
         "rawType": "float64",
         "type": "float"
        },
        {
         "name": "gnomADe_ASJ_AF",
         "rawType": "float64",
         "type": "float"
        },
        {
         "name": "gnomADe_EAS_AF",
         "rawType": "float64",
         "type": "float"
        },
        {
         "name": "gnomADe_FIN_AF",
         "rawType": "float64",
         "type": "float"
        },
        {
         "name": "gnomADe_MID_AF",
         "rawType": "float64",
         "type": "float"
        },
        {
         "name": "gnomADe_NFE_AF",
         "rawType": "float64",
         "type": "float"
        },
        {
         "name": "gnomADe_REMAINING_AF",
         "rawType": "float64",
         "type": "float"
        },
        {
         "name": "gnomADe_SAS_AF",
         "rawType": "float64",
         "type": "float"
        },
        {
         "name": "gnomADg_AF",
         "rawType": "float64",
         "type": "float"
        },
        {
         "name": "gnomADg_AFR_AF",
         "rawType": "float64",
         "type": "float"
        },
        {
         "name": "gnomADg_AMI_AF",
         "rawType": "float64",
         "type": "float"
        },
        {
         "name": "gnomADg_AMR_AF",
         "rawType": "float64",
         "type": "float"
        },
        {
         "name": "gnomADg_ASJ_AF",
         "rawType": "float64",
         "type": "float"
        },
        {
         "name": "gnomADg_EAS_AF",
         "rawType": "float64",
         "type": "float"
        },
        {
         "name": "gnomADg_FIN_AF",
         "rawType": "float64",
         "type": "float"
        },
        {
         "name": "gnomADg_MID_AF",
         "rawType": "float64",
         "type": "float"
        },
        {
         "name": "gnomADg_NFE_AF",
         "rawType": "float64",
         "type": "float"
        },
        {
         "name": "gnomADg_REMAINING_AF",
         "rawType": "float64",
         "type": "float"
        },
        {
         "name": "gnomADg_SAS_AF",
         "rawType": "float64",
         "type": "float"
        },
        {
         "name": "miRNA",
         "rawType": "object",
         "type": "string"
        },
        {
         "name": "pLI_gene_value",
         "rawType": "float64",
         "type": "float"
        },
        {
         "name": "is_ADAR_fixable",
         "rawType": "bool",
         "type": "boolean"
        },
        {
         "name": "is_APOBEC_fixable",
         "rawType": "bool",
         "type": "boolean"
        },
        {
         "name": "hg38",
         "rawType": "object",
         "type": "string"
        }
       ],
       "ref": "a2ff8ffe-7953-4f88-8d97-f5e42ea1da18",
       "rows": [],
       "shape": {
        "columns": 119,
        "rows": 0
       }
      },
      "text/html": [
       "<div>\n",
       "<style scoped>\n",
       "    .dataframe tbody tr th:only-of-type {\n",
       "        vertical-align: middle;\n",
       "    }\n",
       "\n",
       "    .dataframe tbody tr th {\n",
       "        vertical-align: top;\n",
       "    }\n",
       "\n",
       "    .dataframe thead th {\n",
       "        text-align: right;\n",
       "    }\n",
       "</style>\n",
       "<table border=\"1\" class=\"dataframe\">\n",
       "  <thead>\n",
       "    <tr style=\"text-align: right;\">\n",
       "      <th></th>\n",
       "      <th>chr</th>\n",
       "      <th>pos</th>\n",
       "      <th>ref</th>\n",
       "      <th>alt</th>\n",
       "      <th>AF</th>\n",
       "      <th>AFR_AF</th>\n",
       "      <th>AMR_AF</th>\n",
       "      <th>APPRIS</th>\n",
       "      <th>Allele</th>\n",
       "      <th>Amino_acids</th>\n",
       "      <th>...</th>\n",
       "      <th>gnomADg_FIN_AF</th>\n",
       "      <th>gnomADg_MID_AF</th>\n",
       "      <th>gnomADg_NFE_AF</th>\n",
       "      <th>gnomADg_REMAINING_AF</th>\n",
       "      <th>gnomADg_SAS_AF</th>\n",
       "      <th>miRNA</th>\n",
       "      <th>pLI_gene_value</th>\n",
       "      <th>is_ADAR_fixable</th>\n",
       "      <th>is_APOBEC_fixable</th>\n",
       "      <th>hg38</th>\n",
       "    </tr>\n",
       "  </thead>\n",
       "  <tbody>\n",
       "  </tbody>\n",
       "</table>\n",
       "<p>0 rows × 119 columns</p>\n",
       "</div>"
      ],
      "text/plain": [
       "Empty DataFrame\n",
       "Columns: [chr, pos, ref, alt, AF, AFR_AF, AMR_AF, APPRIS, Allele, Amino_acids, BIOTYPE, BLOSUM62, CANONICAL, CCDS, CDS_position, CLIN_SIG, Codons, Condel, Consequence, DISTANCE, DOMAINS, EAS_AF, ENSP, EUR_AF, EXON, Enformer_SAD, Enformer_SAR, Existing_variation, FLAGS, Feature, Feature_type, FlagLRG, GENE_PHENO, Gene, HGNC_ID, HGVS_OFFSET, HGVSc, HGVSp, IMPACT, INTRON, LOVD, LoFtool, Location, MANE, MANE_PLUS_CLINICAL, MANE_SELECT, MAX_AF, MAX_AF_POPS, MINIMISED, MaveDB_nt, MaveDB_pro, MaveDB_score, MaveDB_urn, NMD, PHENO, PUBMED, PhastCons100, PhenotypeOrthologous_Mouse_geneid, PhenotypeOrthologous_Mouse_phenotype, PhenotypeOrthologous_Rat_geneid, PhenotypeOrthologous_Rat_phenotype, PolyPhen, Protein_position, REVEL, SAS_AF, SIFT, SOMATIC, STRAND, SWISSPROT, SYMBOL, SYMBOL_SOURCE, TREMBL, TSL, UNIPARC, UNIPROT_ISOFORM, VARIANT_CLASS, Varicarta, am_class, am_genome, am_pathogenicity, am_protein_variant, am_transcript_id, am_uniprot_id, cDNA_position, db1_TableS1, db1_TableS3, db1_TableS4, db2_TableS2, db3, db4_SD1, db4_SD2, db4_SD3, db5_SD1, gnomADe_AF, gnomADe_AFR_AF, gnomADe_AMR_AF, gnomADe_ASJ_AF, gnomADe_EAS_AF, gnomADe_FIN_AF, gnomADe_MID_AF, ...]\n",
       "Index: []\n",
       "\n",
       "[0 rows x 119 columns]"
      ]
     },
     "execution_count": 120,
     "metadata": {},
     "output_type": "execute_result"
    }
   ],
   "source": [
    "variants_df[(variants_df['chr'] == 'chr1') & (variants_df['pos'] == \"215758592\") | (variants_df['chr'] == 'chr2') & (variants_df['pos'] == \"38748079\") | (variants_df['chr'] == 'chr7') & (variants_df['pos'] == \"152230325\") | (variants_df['chr'] == 'chrX') & (variants_df['pos'] == \"141907819\")]"
   ]
  },
  {
   "cell_type": "code",
   "execution_count": null,
   "id": "e2dbbaa3",
   "metadata": {},
   "outputs": [],
   "source": []
  }
 ],
 "metadata": {
  "kernelspec": {
   "display_name": "compgen2024",
   "language": "python",
   "name": "python3"
  },
  "language_info": {
   "codemirror_mode": {
    "name": "ipython",
    "version": 3
   },
   "file_extension": ".py",
   "mimetype": "text/x-python",
   "name": "python",
   "nbconvert_exporter": "python",
   "pygments_lexer": "ipython3",
   "version": "3.13.7"
  }
 },
 "nbformat": 4,
 "nbformat_minor": 5
}
