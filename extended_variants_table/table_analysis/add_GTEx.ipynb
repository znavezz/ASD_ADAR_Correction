{
 "cells": [
  {
   "cell_type": "code",
   "execution_count": 1,
   "id": "cd46798e",
   "metadata": {},
   "outputs": [],
   "source": [
    "import pandas as pd"
   ]
  },
  {
   "cell_type": "code",
   "execution_count": 2,
   "id": "7c7c0433",
   "metadata": {},
   "outputs": [],
   "source": [
    "expression_data_path = '/private10/Projects/Nave_Oded_Project/resources/GTEx_Analysis_v10_RNASeQCv2.4.2_gene_tpm.gct.gz'\n",
    "sample_attributes_path = '/private10/Projects/Nave_Oded_Project/resources/GTEx_Analysis_v10_Annotations_SampleAttributesDS.txt'\n",
    "subject_attributes_path = '/private10/Projects/Nave_Oded_Project/resources/GTEx_Analysis_v10_Annotations_SubjectPhenotypesDS.txt'"
   ]
  },
  {
   "cell_type": "code",
   "execution_count": null,
   "id": "d7a29486",
   "metadata": {},
   "outputs": [],
   "source": [
    "expression_data_df = pd.read_csv(expression_data_path, low_memory=False, sep='\\t', skiprows=2, comment=None)"
   ]
  },
  {
   "cell_type": "code",
   "execution_count": null,
   "id": "c2eefdfc",
   "metadata": {},
   "outputs": [],
   "source": []
  }
 ],
 "metadata": {
  "kernelspec": {
   "display_name": "compgen2024",
   "language": "python",
   "name": "python3"
  },
  "language_info": {
   "codemirror_mode": {
    "name": "ipython",
    "version": 3
   },
   "file_extension": ".py",
   "mimetype": "text/x-python",
   "name": "python",
   "nbconvert_exporter": "python",
   "pygments_lexer": "ipython3",
   "version": "3.13.7"
  }
 },
 "nbformat": 4,
 "nbformat_minor": 5
}
